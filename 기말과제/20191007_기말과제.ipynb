{
 "cells": [
  {
   "cell_type": "code",
   "execution_count": null,
   "id": "87896d3e",
   "metadata": {},
   "outputs": [],
   "source": [
    "#20191007 이희원"
   ]
  },
  {
   "cell_type": "code",
   "execution_count": 1,
   "id": "aaaeb197",
   "metadata": {},
   "outputs": [
    {
     "name": "stdout",
     "output_type": "stream",
     "text": [
      "no display found. Using non-interactive Agg backend\n",
      "Requirement already satisfied: matplotlib in /Users/ihuiwon/opt/anaconda3/lib/python3.9/site-packages (3.7.1)\n",
      "Requirement already satisfied: pillow>=6.2.0 in /Users/ihuiwon/opt/anaconda3/lib/python3.9/site-packages (from matplotlib) (9.2.0)\n",
      "Requirement already satisfied: fonttools>=4.22.0 in /Users/ihuiwon/opt/anaconda3/lib/python3.9/site-packages (from matplotlib) (4.25.0)\n",
      "Requirement already satisfied: kiwisolver>=1.0.1 in /Users/ihuiwon/opt/anaconda3/lib/python3.9/site-packages (from matplotlib) (1.4.2)\n",
      "Requirement already satisfied: contourpy>=1.0.1 in /Users/ihuiwon/opt/anaconda3/lib/python3.9/site-packages (from matplotlib) (1.0.7)\n",
      "Requirement already satisfied: pyparsing>=2.3.1 in /Users/ihuiwon/opt/anaconda3/lib/python3.9/site-packages (from matplotlib) (3.0.9)\n",
      "Requirement already satisfied: importlib-resources>=3.2.0 in /Users/ihuiwon/opt/anaconda3/lib/python3.9/site-packages (from matplotlib) (5.12.0)\n",
      "Requirement already satisfied: numpy>=1.20 in /Users/ihuiwon/opt/anaconda3/lib/python3.9/site-packages (from matplotlib) (1.21.5)\n",
      "Requirement already satisfied: cycler>=0.10 in /Users/ihuiwon/opt/anaconda3/lib/python3.9/site-packages (from matplotlib) (0.11.0)\n",
      "Requirement already satisfied: python-dateutil>=2.7 in /Users/ihuiwon/opt/anaconda3/lib/python3.9/site-packages (from matplotlib) (2.8.2)\n",
      "Requirement already satisfied: packaging>=20.0 in /Users/ihuiwon/opt/anaconda3/lib/python3.9/site-packages (from matplotlib) (21.3)\n",
      "Requirement already satisfied: zipp>=3.1.0 in /Users/ihuiwon/opt/anaconda3/lib/python3.9/site-packages (from importlib-resources>=3.2.0->matplotlib) (3.8.0)\n",
      "Requirement already satisfied: six>=1.5 in /Users/ihuiwon/opt/anaconda3/lib/python3.9/site-packages (from python-dateutil>=2.7->matplotlib) (1.16.0)\n",
      "Requirement already satisfied: seaborn in /Users/ihuiwon/opt/anaconda3/lib/python3.9/site-packages (0.11.2)\n",
      "Requirement already satisfied: pandas>=0.23 in /Users/ihuiwon/opt/anaconda3/lib/python3.9/site-packages (from seaborn) (1.4.4)\n",
      "Requirement already satisfied: scipy>=1.0 in /Users/ihuiwon/opt/anaconda3/lib/python3.9/site-packages (from seaborn) (1.9.1)\n",
      "Requirement already satisfied: matplotlib>=2.2 in /Users/ihuiwon/opt/anaconda3/lib/python3.9/site-packages (from seaborn) (3.7.1)\n",
      "Requirement already satisfied: numpy>=1.15 in /Users/ihuiwon/opt/anaconda3/lib/python3.9/site-packages (from seaborn) (1.21.5)\n",
      "Requirement already satisfied: fonttools>=4.22.0 in /Users/ihuiwon/opt/anaconda3/lib/python3.9/site-packages (from matplotlib>=2.2->seaborn) (4.25.0)\n",
      "Requirement already satisfied: contourpy>=1.0.1 in /Users/ihuiwon/opt/anaconda3/lib/python3.9/site-packages (from matplotlib>=2.2->seaborn) (1.0.7)\n",
      "Requirement already satisfied: packaging>=20.0 in /Users/ihuiwon/opt/anaconda3/lib/python3.9/site-packages (from matplotlib>=2.2->seaborn) (21.3)\n",
      "Requirement already satisfied: pillow>=6.2.0 in /Users/ihuiwon/opt/anaconda3/lib/python3.9/site-packages (from matplotlib>=2.2->seaborn) (9.2.0)\n",
      "Requirement already satisfied: kiwisolver>=1.0.1 in /Users/ihuiwon/opt/anaconda3/lib/python3.9/site-packages (from matplotlib>=2.2->seaborn) (1.4.2)\n",
      "Requirement already satisfied: pyparsing>=2.3.1 in /Users/ihuiwon/opt/anaconda3/lib/python3.9/site-packages (from matplotlib>=2.2->seaborn) (3.0.9)\n",
      "Requirement already satisfied: importlib-resources>=3.2.0 in /Users/ihuiwon/opt/anaconda3/lib/python3.9/site-packages (from matplotlib>=2.2->seaborn) (5.12.0)\n",
      "Requirement already satisfied: python-dateutil>=2.7 in /Users/ihuiwon/opt/anaconda3/lib/python3.9/site-packages (from matplotlib>=2.2->seaborn) (2.8.2)\n",
      "Requirement already satisfied: cycler>=0.10 in /Users/ihuiwon/opt/anaconda3/lib/python3.9/site-packages (from matplotlib>=2.2->seaborn) (0.11.0)\n",
      "Requirement already satisfied: pytz>=2020.1 in /Users/ihuiwon/opt/anaconda3/lib/python3.9/site-packages (from pandas>=0.23->seaborn) (2022.1)\n",
      "Requirement already satisfied: zipp>=3.1.0 in /Users/ihuiwon/opt/anaconda3/lib/python3.9/site-packages (from importlib-resources>=3.2.0->matplotlib>=2.2->seaborn) (3.8.0)\n",
      "Requirement already satisfied: six>=1.5 in /Users/ihuiwon/opt/anaconda3/lib/python3.9/site-packages (from python-dateutil>=2.7->matplotlib>=2.2->seaborn) (1.16.0)\n"
     ]
    }
   ],
   "source": [
    "from pathlib import Path\n",
    "import pandas as pd\n",
    "import numpy as np\n",
    "from sklearn.tree import DecisionTreeClassifier, DecisionTreeRegressor\n",
    "from sklearn.ensemble import RandomForestClassifier, GradientBoostingClassifier \n",
    "from sklearn.model_selection import train_test_split, cross_val_score, GridSearchCV\n",
    "from sklearn.metrics import accuracy_score, confusion_matrix\n",
    "import matplotlib.pylab as plt\n",
    "import dmba\n",
    "from dmba import plotDecisionTree, classificationSummary, regressionSummary\n",
    "from sklearn import svm\n",
    "import seaborn as sns\n",
    "from matplotlib import pyplot as plt\n",
    "from sklearn.preprocessing import MinMaxScaler\n",
    "import warnings\n",
    "warnings.filterwarnings('ignore')\n",
    "%matplotlib inline\n",
    "!pip install --upgrade matplotlib\n",
    "!pip install seaborn\n",
    "import matplotlib.pyplot as plt"
   ]
  },
  {
   "cell_type": "code",
   "execution_count": 2,
   "id": "4dff8afe",
   "metadata": {},
   "outputs": [],
   "source": [
    "chess_df_dt = pd.read_csv('data/chess_games.csv')\n",
    "chess_df_rf = pd.read_csv('data/chess_games.csv')\n",
    "chess_df_svm = pd.read_csv('data/chess_games.csv')\n",
    "#데이터를 3개로 나눠서 진행하는 이유 : 각각 데이터의 내용이 달라질 예정이라 따로따로 진행\n",
    "#3개 다 필요한 전처리 과정은 한번에 진행"
   ]
  },
  {
   "cell_type": "code",
   "execution_count": null,
   "id": "3d937b1e",
   "metadata": {},
   "outputs": [],
   "source": [
    "#일부 뽑아보기\n",
    "print(chess_df_dt.head(10))"
   ]
  },
  {
   "cell_type": "code",
   "execution_count": null,
   "id": "925bd9db",
   "metadata": {},
   "outputs": [],
   "source": [
    "#결측치 분석\n",
    "chess_df_dt.info()\n",
    "\n",
    "print(chess_df_dt.isnull().sum())\n",
    "#opening_response와 opening_variation이 무엇인지 알아야함"
   ]
  },
  {
   "cell_type": "code",
   "execution_count": 3,
   "id": "858239c4",
   "metadata": {},
   "outputs": [],
   "source": [
    "#데이터 전처리 및 정규화\n",
    "#결측치 처리하기\n",
    "# opening_response -> 결측치를 'Unknown'으로 채움\n",
    "chess_df_dt['opening_response'] = chess_df_dt['opening_response'].fillna('Unknown')\n",
    "chess_df_rf['opening_response'] = chess_df_rf['opening_response'].fillna('Unknown')\n",
    "chess_df_svm['opening_response'] = chess_df_svm['opening_response'].fillna('Unknown')"
   ]
  },
  {
   "cell_type": "code",
   "execution_count": null,
   "id": "c568b0b3",
   "metadata": {},
   "outputs": [],
   "source": [
    "# opening_variation은 뭘로 채울 것인가?\n",
    "# 출력해보기\n",
    "print(chess_df_dt['opening_variation'])"
   ]
  },
  {
   "cell_type": "code",
   "execution_count": null,
   "id": "7685406a",
   "metadata": {},
   "outputs": [],
   "source": [
    "#데이터 프레임에서 중복 제거, unique한 값 확인\n",
    "chess_df_dt['opening_variation'].unique()"
   ]
  },
  {
   "cell_type": "code",
   "execution_count": null,
   "id": "5e62db98",
   "metadata": {},
   "outputs": [],
   "source": [
    "#value_counts()로 개수 확인하기\n",
    "chess_df_dt['opening_variation'].value_counts()"
   ]
  },
  {
   "cell_type": "code",
   "execution_count": null,
   "id": "4a76c93b",
   "metadata": {},
   "outputs": [],
   "source": [
    "#개방전의 variation의 최빈값으로 채우기\n",
    "chess_df_dt['opening_variation'] = chess_df_dt['opening_variation'].fillna('#2')\n",
    "chess_df_rf['opening_variation'] = chess_df_rf['opening_variation'].fillna('#2')\n",
    "chess_df_svm['opening_variation'] = chess_df_svm['opening_variation'].fillna('#2')"
   ]
  },
  {
   "cell_type": "code",
   "execution_count": null,
   "id": "5d7b96b2",
   "metadata": {},
   "outputs": [],
   "source": [
    "#데이터 탐색\n",
    "#1. opening_name을 short나 full 중 하나만 남기기(full 삭제)\n",
    "chess_df_dt = chess_df_dt.drop(columns = ['opening_fullname'])\n",
    "chess_df_rf = chess_df_dt.drop(columns = ['opening_fullname'])\n",
    "chess_df_svm = chess_df_dt.drop(columns = ['opening_fullname'])"
   ]
  },
  {
   "cell_type": "code",
   "execution_count": null,
   "id": "272f6135",
   "metadata": {},
   "outputs": [],
   "source": [
    "chess_df_dt.info() #fullname 삭제 완료"
   ]
  },
  {
   "cell_type": "code",
   "execution_count": null,
   "id": "6c28861a",
   "metadata": {},
   "outputs": [],
   "source": [
    "#heatmap 그리기\n",
    "corr = chess_df_dt[['rated', 'turns', 'white_rating', 'black_rating']].corr()"
   ]
  },
  {
   "cell_type": "code",
   "execution_count": null,
   "id": "56e7aa7a",
   "metadata": {},
   "outputs": [],
   "source": [
    "#heatmap 그리기\n",
    "fig, ax = plt.subplots(figsize=(10, 8))\n",
    "sns.heatmap(corr, annot=True, fmt=\".2f\", cmap='coolwarm', center=0, ax=ax)\n",
    "plt.show()\n",
    "#white_rating과 black_rating이 서로 높은 상관관계 가짐"
   ]
  },
  {
   "cell_type": "code",
   "execution_count": null,
   "id": "0c4d949e",
   "metadata": {},
   "outputs": [],
   "source": [
    "#RandomForest"
   ]
  },
  {
   "cell_type": "code",
   "execution_count": null,
   "id": "dc47ea00",
   "metadata": {},
   "outputs": [],
   "source": [
    "#변수 추출하기 -> 10개로 축소\n",
    "selected_columns = ['winner', 'moves', 'time_increment', 'rated', 'victory_status', 'turns', 'black_rating', \n",
    "                    'white_rating', 'victory_status', 'opening_moves']\n",
    "chess_df_rf = chess_df_rf[selected_columns]"
   ]
  },
  {
   "cell_type": "code",
   "execution_count": null,
   "id": "b3dfb968",
   "metadata": {},
   "outputs": [],
   "source": [
    "#encoding(숫자형 범수가 아닌 것들을 인코딩 필요함)\n",
    "#Winner\n",
    "#time_increment\n",
    "#rated\n",
    "#victory_status"
   ]
  },
  {
   "cell_type": "code",
   "execution_count": null,
   "id": "c3ce8681",
   "metadata": {},
   "outputs": [],
   "source": [
    "#time_increment\n",
    "# 문자열 열을 숫자로 변환 (time_increment 열)\n",
    "chess_df_rf['time_increment'] = chess_df_rf['time_increment'].str.extract('(\\d+)').astype(int)\n"
   ]
  },
  {
   "cell_type": "code",
   "execution_count": null,
   "id": "7952ba24",
   "metadata": {},
   "outputs": [],
   "source": [
    "# 원핫인코딩을 위한 데이터 변환\n",
    "chess_df_rf = pd.get_dummies(chess_df_rf)\n",
    "\n",
    "# 결과 확인\n",
    "print(chess_df_rf.head())"
   ]
  },
  {
   "cell_type": "code",
   "execution_count": null,
   "id": "900a59e5",
   "metadata": {},
   "outputs": [],
   "source": [
    "X = chess_df_rf.drop(columns=['winner_Black', 'winner_Draw', 'winner_White'])\n",
    "y = chess_df_rf[['winner_Black', 'winner_Draw', 'winner_White']]\n",
    "train_X, valid_X, train_y, valid_y = train_test_split(X, y, test_size=0.4, random_state=42)\n",
    "RF = RandomForestClassifier(n_estimators=500, random_state=42)\n",
    "RF.fit(train_X, train_y)"
   ]
  },
  {
   "cell_type": "code",
   "execution_count": null,
   "id": "6cffd1fa",
   "metadata": {},
   "outputs": [],
   "source": [
    "rf_importances = RF.feature_importances_\n",
    "std = np.std([tree.feature_importances_ for tree in RF.estimators_], axis=0)\n",
    "\n",
    "df = pd.DataFrame({'feature' : train_X.columns, 'importance' : rf_importances, 'std' : std})\n",
    "df = df.sort_values('importance')\n",
    "print(df)"
   ]
  },
  {
   "cell_type": "code",
   "execution_count": null,
   "id": "f49789b6",
   "metadata": {},
   "outputs": [],
   "source": [
    "#막대 그래프\n",
    "ax = df.plot(kind='barh', xerr='std', x='feature', legend=False)\n",
    "ax.set_ylabel('graph')\n",
    "\n",
    "plt.tight_layout()\n",
    "plt.show()"
   ]
  },
  {
   "cell_type": "code",
   "execution_count": null,
   "id": "0335b551",
   "metadata": {},
   "outputs": [],
   "source": [
    "# 실제값과 예측값을 비교하여 정확도 계산\n",
    "accuracy = accuracy_score(valid_y, RF.predict(valid_X))\n",
    "\n",
    "# 정확도 출력\n",
    "print(\"Accuracy:\", accuracy)"
   ]
  },
  {
   "cell_type": "code",
   "execution_count": null,
   "id": "fac79665",
   "metadata": {},
   "outputs": [],
   "source": [
    "#SVM"
   ]
  },
  {
   "cell_type": "code",
   "execution_count": 4,
   "id": "137a263b",
   "metadata": {},
   "outputs": [],
   "source": [
    "selected_columns = ['winner', 'moves', 'time_increment', 'rated', 'victory_status', \n",
    "                    'turns', 'black_rating', \n",
    "                    'white_rating', 'victory_status', 'opening_moves']\n",
    "chess_df_svm = chess_df_svm[selected_columns]"
   ]
  },
  {
   "cell_type": "code",
   "execution_count": null,
   "id": "22037f32",
   "metadata": {},
   "outputs": [],
   "source": [
    "#수치형 변수 정규화하기"
   ]
  },
  {
   "cell_type": "code",
   "execution_count": 5,
   "id": "8fd620ba",
   "metadata": {},
   "outputs": [],
   "source": [
    "# 정규화를 수행할 변수들 선택\n",
    "columns_to_normalize = ['turns', 'white_rating', 'black_rating']\n",
    "\n",
    "# Min-Max 정규화 객체 생성\n",
    "scaler = MinMaxScaler()\n",
    "\n",
    "# 정규화 수행\n",
    "normalized_data = scaler.fit_transform(chess_df_svm[columns_to_normalize])"
   ]
  },
  {
   "cell_type": "code",
   "execution_count": null,
   "id": "389992f2",
   "metadata": {},
   "outputs": [],
   "source": [
    "#나머지 정규화(time_increment)"
   ]
  },
  {
   "cell_type": "code",
   "execution_count": 6,
   "id": "f40549f8",
   "metadata": {},
   "outputs": [],
   "source": [
    "#time_increment\n",
    "# 문자열 열을 숫자로 변환 (time_increment 열)\n",
    "chess_df_svm['time_increment'] = chess_df_svm['time_increment'].str.extract('(\\d+)').astype(int)\n"
   ]
  },
  {
   "cell_type": "code",
   "execution_count": null,
   "id": "b7e6a61d",
   "metadata": {},
   "outputs": [],
   "source": [
    "#one-hot encoding\n",
    "#chess_df_svm = pd.get_dummies(chess_df_svm)\n",
    "\n",
    "# 결과 확인\n",
    "#print(chess_df_svm.head())"
   ]
  },
  {
   "cell_type": "code",
   "execution_count": null,
   "id": "e271432e",
   "metadata": {},
   "outputs": [],
   "source": [
    "#svm 적용하기"
   ]
  },
  {
   "cell_type": "code",
   "execution_count": 7,
   "id": "683e8438",
   "metadata": {},
   "outputs": [
    {
     "data": {
      "text/plain": [
       "SVC(C=0.01, kernel='linear')"
      ]
     },
     "execution_count": 7,
     "metadata": {},
     "output_type": "execute_result"
    }
   ],
   "source": [
    "X = np.array(chess_df_svm[['time_increment', 'rated', 'turns'\n",
    "                           , 'black_rating', 'white_rating', 'opening_moves']])\n",
    "y = np.array(chess_df_svm['winner'])\n",
    "\n",
    "clf = svm.SVC(kernel='linear', C=0.01)\n",
    "clf.fit(X,y)"
   ]
  },
  {
   "cell_type": "code",
   "execution_count": 8,
   "id": "8904bab1",
   "metadata": {},
   "outputs": [
    {
     "name": "stdout",
     "output_type": "stream",
     "text": [
      "Variable Importance:\n",
      "rated: 0.00032256099277816475\n",
      "opening_moves: 5.363521793810833e-06\n",
      "turns: 4.4159235130791785e-06\n",
      "time_increment: 6.924663864538161e-07\n",
      "white_rating: 4.5096385292708874e-08\n",
      "black_rating: 2.964952727779746e-08\n",
      "Accuracy: 0.6240402831787816\n"
     ]
    }
   ],
   "source": [
    "#성능평가\n",
    "# 변수 중요도 확인\n",
    "importance = np.abs(clf.coef_[0])\n",
    "feature_names = ['time_increment', 'rated', 'turns', 'black_rating', 'white_rating', 'opening_moves']\n",
    "feature_importance = dict(zip(feature_names, importance))\n",
    "sorted_importance = sorted(feature_importance.items(), key=lambda x: x[1], reverse=True)\n",
    "print(\"Variable Importance:\")\n",
    "for feature, importance in sorted_importance:\n",
    "    print(f\"{feature}: {importance}\")\n",
    "\n",
    "# 정확도 측정\n",
    "accuracy = clf.score(X, y)\n",
    "print(\"Accuracy:\", accuracy)"
   ]
  },
  {
   "cell_type": "code",
   "execution_count": null,
   "id": "b9d87291",
   "metadata": {},
   "outputs": [],
   "source": []
  }
 ],
 "metadata": {
  "kernelspec": {
   "display_name": "Python 3 (ipykernel)",
   "language": "python",
   "name": "python3"
  },
  "language_info": {
   "codemirror_mode": {
    "name": "ipython",
    "version": 3
   },
   "file_extension": ".py",
   "mimetype": "text/x-python",
   "name": "python",
   "nbconvert_exporter": "python",
   "pygments_lexer": "ipython3",
   "version": "3.9.13"
  }
 },
 "nbformat": 4,
 "nbformat_minor": 5
}
